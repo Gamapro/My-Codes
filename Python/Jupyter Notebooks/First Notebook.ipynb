{
 "cells": [
  {
   "cell_type": "markdown",
   "metadata": {},
   "source": [
    "$ COSOS $"
   ]
  },
  {
   "cell_type": "code",
   "execution_count": 10,
   "metadata": {},
   "outputs": [
    {
     "name": "stdout",
     "output_type": "stream",
     "text": [
      "Variable    Type    Data/Info\n",
      "-----------------------------\n",
      "a           int     1\n",
      "multiLine   str     Que onda cuate\\ncomostas\\<...>preciosa :p\\nultima linea\n",
      "s           str     0123456789\n",
      "Variable    Type    Data/Info\n",
      "-----------------------------\n",
      "multiLine   str     Que onda cuate\\ncomostas\\<...>preciosa :p\\nultima linea\n",
      "s           str     0123456789\n",
      "1\n"
     ]
    },
    {
     "data": {
      "text/plain": [
       "str"
      ]
     },
     "execution_count": 10,
     "metadata": {},
     "output_type": "execute_result"
    }
   ],
   "source": [
    "a = 1\n",
    "%whos\n",
    "del a\n",
    "%whos\n",
    "piso = 3//2\n",
    "print(piso)\n",
    "type('ola')"
   ]
  },
  {
   "cell_type": "markdown",
   "metadata": {},
   "source": [
    "$ USEFUL- FUNCTIONS $"
   ]
  },
  {
   "cell_type": "code",
   "execution_count": 29,
   "metadata": {},
   "outputs": [
    {
     "name": "stdout",
     "output_type": "stream",
     "text": [
      "3\n",
      "2\n",
      "2.1\n",
      "2.17\n",
      "(8, 1)\n",
      "(2, 1)\n",
      "True\n",
      "False\n",
      "True\n",
      "1\n",
      "Help on built-in function pow in module builtins:\n",
      "\n",
      "pow(x, y, z=None, /)\n",
      "    Equivalent to x**y (with two arguments) or x**y % z (with three arguments)\n",
      "    \n",
      "    Some types, such as ints, are able to use a more efficient algorithm when\n",
      "    invoked using the three argument form.\n",
      "\n"
     ]
    }
   ],
   "source": [
    "# Redondea al entero mas cercano\n",
    "print(round(2.6))\n",
    "print(round(2.5))\n",
    "# the number of decimals\n",
    "print(round(2.111,1))\n",
    "print(round(2.169,2))\n",
    "\n",
    "# Divide y guarda en una tupla el cociente y el residuo\n",
    "print(divmod(25,3))\n",
    "print(divmod(7,3))\n",
    "\n",
    "# Devuelve si es instancia de algun tipo en la tupla\n",
    "print(isinstance(1,int))\n",
    "print(isinstance(\"ola\",(int,complex,float)))\n",
    "print(isinstance(1+3j,(int,complex)))\n",
    "\n",
    "# (a^b) mod c\n",
    "# pow(a,b,c)\n",
    "print(pow(3,2,4))\n",
    "\n",
    "# La interrogacion abre documentacion\n",
    "#input?\n",
    "help(pow)"
   ]
  },
  {
   "cell_type": "markdown",
   "metadata": {},
   "source": [
    "$ FUNCIONES $"
   ]
  },
  {
   "cell_type": "code",
   "execution_count": 9,
   "metadata": {},
   "outputs": [
    {
     "name": "stdout",
     "output_type": "stream",
     "text": [
      "(1, 4, 5)\n",
      "((1, 2, 3), [4, 5], 6.7, 'ola')\n",
      "{'a': '1', 'b': 'ola', 'c': 'wtf'}\n",
      "{'a': 1, 'b': 2, 'c': 3}\n",
      "1\n",
      "(3+6j)\n",
      "nada\n",
      "Antes de la funcion: 1 2.2 ola True [1, 2, 3, 4]\n",
      "Dentro de la funcion: 10 5.5 adios False ['modificado', 2, 3, 4]\n",
      "Previo a la funcion: 1 2.2 ola True ['modificado', 2, 3, 4]\n"
     ]
    }
   ],
   "source": [
    "# Paso de varios parametros\n",
    "def func(*args):\n",
    "    print(args)\n",
    "    \n",
    "func(1,4,5)\n",
    "func((1,2,3),[4,5],6.7,\"ola\")\n",
    "\n",
    "# Paso de valores con keys\n",
    "# como diccionario\n",
    "def keys(**args):\n",
    "    print(args)\n",
    "    \n",
    "# key = value\n",
    "keys(a = \"1\",b = \"ola\", c = \"wtf\")\n",
    "a ,b,c = 1,2,3\n",
    "keys(a=a,b=b,c=c)\n",
    "\n",
    "# Default args\n",
    "def defa(x = \"nada\"):\n",
    "    print(x)\n",
    "    \n",
    "defa(1)\n",
    "defa(3+6j)\n",
    "defa()\n",
    "\n",
    "\n",
    "### PASO POR REFERENCIA Y POR VALOR\n",
    "### Variables de tipo primitivo, se manda una copia\n",
    "### Otro se manda referencia\n",
    "def f(vint,vfloat,vstr,vbool,vlist):\n",
    "    vint, vfloat, vstr, vbool= 10, 5.5, \"adios\", False\n",
    "    vlist[0] = 'modificado'\n",
    "    print(\"Dentro de la funcion:\",vint,vfloat,vstr,vbool,vlist)\n",
    "\n",
    "vint = 1\n",
    "vfloat = 2.2\n",
    "vstr = 'ola'\n",
    "vbool = True\n",
    "vlist = [1,2,3,4]\n",
    "print(\"Antes de la funcion:\",vint,vfloat,vstr,vbool,vlist)\n",
    "f(vint,vfloat,vstr,vbool,vlist)\n",
    "print(\"Previo a la funcion:\",vint,vfloat,vstr,vbool,vlist)"
   ]
  },
  {
   "cell_type": "markdown",
   "metadata": {},
   "source": [
    "$ MODULOS $"
   ]
  },
  {
   "cell_type": "code",
   "execution_count": 2,
   "metadata": {},
   "outputs": [],
   "source": [
    "import sys\n",
    "sys.path.append(\"/home/gama/Desktop/Python/\") # donde este tu modulo\n",
    "# import tuCoso as comoQuierasUsarlo\n",
    "# from tuCoso import laFuncionQueQuieras"
   ]
  },
  {
   "cell_type": "markdown",
   "metadata": {},
   "source": [
    "$ STRINGS $"
   ]
  },
  {
   "cell_type": "code",
   "execution_count": 46,
   "metadata": {},
   "outputs": [
    {
     "name": "stdout",
     "output_type": "stream",
     "text": [
      "Que onda cuate\n",
      "comostas\n",
      "preciosa :p\n",
      "ultima linea\n",
      "Length: 10\n",
      "0123456789\n",
      "01\n",
      "9\n",
      "9876543210\n",
      "9876543210\n",
      "ola K AsE 123 .-.\n",
      "ola k ase 123 .-.\n",
      "OLA K ASE 123 .-.\n",
      "adios K AsE 123 .-.\n",
      "['ola', 'K', 'AsE', '123', '.-.']\n",
      "True\n",
      "para poner \"estas\" o 'estas' se hace asi\n",
      "\\\\\\n\\t\\r\\n\\\"\n"
     ]
    }
   ],
   "source": [
    "multiLine = \"\"\"Que onda cuate\n",
    "comostas\n",
    "preciosa :p\n",
    "ultima linea\"\"\"\n",
    "print(multiLine)\n",
    "s = \"0123456789\"\n",
    "print(\"Length:\",len(s))\n",
    "print(s[:])\n",
    "print(s[0:2]) # [a:b] lo toma de la forma [a:b)\n",
    "# [start : end : step]\n",
    "print(s[-1])\n",
    "print(s[-1:-11:-1])\n",
    "print(s[::-1]) # Reverse the string\n",
    "\n",
    "a = \"    ola K AsE 123 .-.    \"\n",
    "b = a.strip() # Quita espacios de inicio y fin\n",
    "print(b)\n",
    "print(b.lower()) # Manda letras a minusculas\n",
    "print(b.upper()) # Manda letras a mayus\n",
    "print(b.replace(\"ola\",\"adios\")) # Reemplaza a por b\n",
    "print(b.split(\" \")) # Como en java te splitea en una list\n",
    "print(\"ola\" in b) # Devuelve true o false si esta a en b\n",
    "print(\"para poner \\\"estas\\\" o \\'estas\\' se hace asi\")\n",
    "print(r\"\\\\\\n\\t\\r\\n\\\"\") # Para imprimir tal cual se usa la r"
   ]
  },
  {
   "cell_type": "markdown",
   "metadata": {},
   "source": [
    "$ DATA - STRUCTURES $"
   ]
  },
  {
   "cell_type": "code",
   "execution_count": 5,
   "metadata": {
    "scrolled": false
   },
   "outputs": [
    {
     "name": "stdout",
     "output_type": "stream",
     "text": [
      "[1, 2, (3+6j), 'ola'] ('ser', 'o no ser', 4.4, 'asi se queda') {3, 'ey'} {'key': 'value', 12: 12, 'data': 3.5}\n",
      "1 4.4 False value 12\n",
      "\n",
      "LIS: \n",
      "[1, 2, (3+6j), 'ola', 'otra', [1, 2], (3+4j)]\n",
      "[(3+4j), [1, 2], 'otra', 'ola', (3+6j), 2, 1]\n",
      "[1, (3+6j), 'ola', 'otra', [1, 2], (3+4j)]\n",
      "[1, (3+6j), 'ola', 'otra', [1, 2], (3+4j)]\n",
      "\n",
      "TUPLA: \n",
      "(1, 2.5, 'o') ('ea', ((3.5+6j), 'dentro'))\n",
      "(1, 2.5, 'o', 'ea', ((3.5+6j), 'dentro'))\n",
      "('ea', ((3.5+6j), 'dentro'))\n",
      "\n",
      "SET: \n",
      "{3, 'ey', 5}\n",
      "{1, 2, 3, 'ey'}\n",
      "{1, 2, 3, 5, 6, 7, 'para', 'ey', 'r', 'str', 'a', 'e'}\n",
      "True\n",
      "{1, 2, 3, 'r', 5, 6, 7, 'para', 'str', 'a', 'e', 'ey'}\n",
      "set()\n",
      "{3, 4}\n",
      "\n",
      "DICT: \n",
      "{'key': 'value', 12: 12, 'data': 3.5}\n",
      "{'key': 'value', 12: 12, 'data': 3.5, 'newKey': 'newValue'}\n",
      "{'n': None, 'e': None, 'w': None, 'K': None, 'y': None}\n",
      "dict_keys(['key', 12, 'data', 'newKey'])\n",
      "dict_values(['value', 12, 3.5, 'newValue'])\n",
      "dict_items([('key', 'value'), (12, 12), ('data', 3.5), ('newKey', 'newValue')])\n",
      "{'list': [1, (3+6j), 'ola', 'otra', [1, 2], (3+4j)], 'tuple': ('ser', 'o no ser', 4.4, 'asi se queda'), 'set': {1, 2, 3, 4}, 1: 4, 2: 5}\n",
      "[(3+4j), [1, 2], 'otra', 'ola', (3+6j), 1]\n",
      "('ser', 'o no ser', 4.4, 'asi se queda')\n",
      "\n",
      "GENERAR: \n",
      "[0, 1, 4, 9, 16, 25, 36, 49, 64, 81]\n",
      "{3, 6, 9, 12, 15, 18, 21, 24, 27, 30}\n",
      "{1: 1, 4: 0, 7: 1, 10: 0, 13: 1, 16: 0, 19: 1}\n"
     ]
    }
   ],
   "source": [
    "# list, tuple, set, dictionary\n",
    "lis = [1,2,3+6j,\"ola\"]                        # En orden,    modificable,        acepta duplicados\n",
    "tup = (\"ser\",\"o no ser\",4.4,\"asi se queda\")   # En orden,    constante,          acepta duplicados\n",
    "seto = {\"ey\",3}                               # En desorden, añadible-removible, no acepta duplicados\n",
    "dic = {\"key\":\"value\",12:12,\"data\":3.5}        # En desorden, modificable,        no acepta duplicados\n",
    "print(lis,tup,seto,dic)\n",
    "print(lis[0],tup[2],1 in seto,dic[\"key\"],dic[12])\n",
    "\n",
    "### Funciones\n",
    "\"\"\"\n",
    "lista.append(1)\n",
    "lista.insert(0,34)\n",
    "lista.reverse()\n",
    "lista.sort()\n",
    "lista.remove('a')\n",
    "lista.pop()\n",
    "lista.count('a')\n",
    "lista.clear()\n",
    "lista.copy()\n",
    "\"\"\"\n",
    "\n",
    "# LIST\n",
    "print(\"\\nLIS: \")\n",
    "lis+= [\"otra\"]      # Al sumar se appendean\n",
    "lis.append([1,2])\n",
    "lis.append(3+4j)\n",
    "print(lis)\n",
    "print(lis[::-1])\n",
    "del lis[1]          # Elimina el objeto del indice proporcionado\n",
    "print(lis)\n",
    "lis2 = lis.copy()   # Crea copia\n",
    "print(lis2)\n",
    "\n",
    "# TUPLA\n",
    "print(\"\\nTUPLA: \")\n",
    "t1 = (1,2.5,\"o\")\n",
    "t2 = (\"ea\",(3.5+6j,\"dentro\"))\n",
    "t3 = t1+t2          # Al sumar se appendean\n",
    "print(t1,t2)        \n",
    "print(t3)\n",
    "del t3\n",
    "t4 = t2             # Crea copia\n",
    "print(t4)\n",
    "\n",
    "# SET\n",
    "print(\"\\nSET: \")\n",
    "seto.add(5)          # Añadir cosos\n",
    "print(seto)\n",
    "seto.update({1,2})   # Añadir cosos\n",
    "seto.remove(5)       # Remueve cosos\n",
    "print(seto)\n",
    "seto.update(\"era\",(7,5,6)) # Itera por los cosos y los añade uno por uno\n",
    "seto.update({\"para\",\"str\"})\n",
    "print(seto)\n",
    "print(\"str\" in seto) # Checa si un elemento existe\n",
    "s2 = seto.copy()\n",
    "print(s2)\n",
    "seto.clear()         # Limpia\n",
    "print(seto)\n",
    "seto = {1,2,3,4}\n",
    "seto2 = {3,4,5,6}\n",
    "print(seto.intersection(seto2))   # Interseccion entre dos sets\n",
    "\n",
    "# DICT\n",
    "print(\"\\nDICT: \")\n",
    "crearEmptyDict = dict()\n",
    "print(dic)\n",
    "dic[\"newKey\"] = \"newValue\"\n",
    "print(dic)\n",
    "print(dic.keys())     # Imprime las keys en una list\n",
    "print(dic.values())   # Imprime los values en una list\n",
    "print(dic.items())    # Imprime los pares (key,value) en una list\n",
    "d2 = {\"list\":lis,\"tuple\":tup,\"set\":seto}\n",
    "d2.update({1:4,2:5}) # Añadir cosos\n",
    "print(d2)\n",
    "print(d2['list'][::-1])\n",
    "print(d2[\"tuple\"])\n",
    "\n",
    "# Generar\n",
    "print(\"\\nGENERAR: \")\n",
    "lis = [i**2 for i in range(10)]\n",
    "print(lis)\n",
    "seto = { i*3 for i in range(1,11) }\n",
    "print(seto)\n",
    "dic = { i:i%2 for i in range(1,20,3) }\n",
    "print(dic)"
   ]
  },
  {
   "cell_type": "markdown",
   "metadata": {},
   "source": [
    "## CLASES :p"
   ]
  },
  {
   "cell_type": "code",
   "execution_count": 21,
   "metadata": {},
   "outputs": [
    {
     "name": "stdout",
     "output_type": "stream",
     "text": [
      "El nombre de tu coso es yo\n",
      "El nombre de tu coso es coso\n"
     ]
    }
   ],
   "source": [
    "class Coso:\n",
    "    \n",
    "    def __init__(self,name=\"coso\"):  # CONSTRUCTOR\n",
    "        self.__nombre = name  # Se agrega __ si es variable privada\n",
    "        \n",
    "    def __str__(self):               # toString\n",
    "        return \"El nombre de tu coso es \"+self.__nombre\n",
    "    \n",
    "    @property\n",
    "    def nombre(self):\n",
    "        return self.__nombre\n",
    "    @nombre.setter\n",
    "    def nombre(self,name):\n",
    "        self.__nombre = name\n",
    "    \n",
    "a = Coso('yo')\n",
    "b = Coso()\n",
    "print(a)  # Al imprimir el objeto, se manda llamar\n",
    "print(b)  # el metodo str, equivalente a toString"
   ]
  }
 ],
 "metadata": {
  "kernelspec": {
   "display_name": "Python 3",
   "language": "python",
   "name": "python3"
  },
  "language_info": {
   "codemirror_mode": {
    "name": "ipython",
    "version": 3
   },
   "file_extension": ".py",
   "mimetype": "text/x-python",
   "name": "python",
   "nbconvert_exporter": "python",
   "pygments_lexer": "ipython3",
   "version": "3.8.2"
  }
 },
 "nbformat": 4,
 "nbformat_minor": 4
}
