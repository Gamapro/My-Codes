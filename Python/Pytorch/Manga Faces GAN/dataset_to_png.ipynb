{
 "cells": [
  {
   "cell_type": "markdown",
   "metadata": {},
   "source": [
    "### Move data to PNG "
   ]
  },
  {
   "cell_type": "code",
   "execution_count": 1,
   "metadata": {},
   "outputs": [],
   "source": [
    "import os\n",
    "from PIL import Image"
   ]
  },
  {
   "cell_type": "code",
   "execution_count": 2,
   "metadata": {},
   "outputs": [
    {
     "data": {
      "text/plain": [
       "(11, 670, 670)"
      ]
     },
     "execution_count": 2,
     "metadata": {},
     "output_type": "execute_result"
    }
   ],
   "source": [
    "data_path = 'Manga-Faces-dataset/'\n",
    "classes = os.listdir(data_path)\n",
    "total = 0\n",
    "por_clase = []\n",
    "it = 0\n",
    "\n",
    "dataset = 'dataset/'\n",
    "if not os.path.exists(dataset):\n",
    "    os.makedirs(dataset)\n",
    "\n",
    "for clas in classes:\n",
    "    names = os.listdir(data_path+clas)\n",
    "    total += len(names)\n",
    "    if not os.path.exists(dataset+clas):\n",
    "        os.makedirs(dataset+clas)\n",
    "    for name in names:\n",
    "        # print(name)\n",
    "        im = Image.open(data_path+clas+'/'+name)\n",
    "        # print(im.format)\n",
    "        im.save(dataset+clas+'/'+str(it)+'.png')  # or 'test.tif'\n",
    "        it+=1\n",
    "\n",
    "len(classes), total, it"
   ]
  }
 ],
 "metadata": {
  "interpreter": {
   "hash": "e7b3bcf01e721c0efad6c070466beee4032017a677b4fd1380ce5725f9db6e26"
  },
  "kernelspec": {
   "display_name": "Python 3.9.2 64-bit",
   "language": "python",
   "name": "python3"
  },
  "language_info": {
   "codemirror_mode": {
    "name": "ipython",
    "version": 3
   },
   "file_extension": ".py",
   "mimetype": "text/x-python",
   "name": "python",
   "nbconvert_exporter": "python",
   "pygments_lexer": "ipython3",
   "version": "3.9.2"
  },
  "orig_nbformat": 4
 },
 "nbformat": 4,
 "nbformat_minor": 2
}
