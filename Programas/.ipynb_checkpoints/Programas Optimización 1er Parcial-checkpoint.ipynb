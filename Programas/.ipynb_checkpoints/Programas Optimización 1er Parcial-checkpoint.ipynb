{
 "cells": [
  {
   "cell_type": "markdown",
   "id": "patient-paste",
   "metadata": {},
   "source": [
    "## David Gamaliel Arcos Bravo\n",
    "### Programas Optimización yMetaheurísticas 1er Parcial"
   ]
  },
  {
   "cell_type": "markdown",
   "id": "periodic-engine",
   "metadata": {},
   "source": [
    "## Librerias"
   ]
  },
  {
   "cell_type": "code",
   "execution_count": 22,
   "id": "ruled-fever",
   "metadata": {},
   "outputs": [],
   "source": [
    "from random import random\n",
    "import numpy as np\n",
    "import matplotlib.pyplot as plt\n",
    "from mpl_toolkits.mplot3d import Axes3D\n",
    "from matplotlib import cm\n",
    "from matplotlib.ticker import LinearLocator, FormatStrFormatter"
   ]
  },
  {
   "cell_type": "markdown",
   "id": "naked-evans",
   "metadata": {},
   "source": [
    "## Gráfica 2D"
   ]
  },
  {
   "cell_type": "code",
   "execution_count": null,
   "id": "different-craft",
   "metadata": {
    "collapsed": true
   },
   "outputs": [],
   "source": [
    "def grafica2D():\n",
    "    return"
   ]
  },
  {
   "cell_type": "markdown",
   "id": "fallen-preference",
   "metadata": {},
   "source": [
    "## Funcion y Variables"
   ]
  },
  {
   "cell_type": "code",
   "execution_count": 42,
   "id": "matched-buddy",
   "metadata": {},
   "outputs": [],
   "source": [
    "f = lambda x1,x2 : ((x1**4 - 16*x1**2 + 5*x1) + (x2**4 - 16*x2**2 + 5*x2))/2 \n",
    "\n",
    "def funcion(variables):\n",
    "    x1, x2 = variables\n",
    "    return ((x1**4 - 16*x1**2 + 5*x1) + (x2**4 - 16*x2**2 + 5*x2))/2\n",
    "\n",
    "x0 = (4,4)\n",
    "K = 500"
   ]
  },
  {
   "cell_type": "markdown",
   "id": "clean-lottery",
   "metadata": {},
   "source": [
    "## Búsqueda Aleatoria Simple"
   ]
  },
  {
   "cell_type": "code",
   "execution_count": 51,
   "id": "developmental-mileage",
   "metadata": {},
   "outputs": [],
   "source": [
    "def BusquedaAleatoriaSimple(K=100,dim=2,des=1.5):\n",
    "    # Crear vector inicial de forma aleatoria\n",
    "    v = np.array(dim)\n",
    "    for _ in range(dim):\n",
    "        v[_] = random(0,2)\n",
    "    # Repetir K veces\n",
    "    for _ in range(K):\n",
    "        # Generar otro vector independiente aleatorio\n",
    "        dk = np.copy(v)\n",
    "        for _ in range(dim):\n",
    "            dk[_] = random(0,2)\n",
    "        # Sumar anterior con aleatorio\n",
    "        nuevo = np.add(dk,v)\n",
    "        if f(nuevo) < f(v):\n",
    "            v = np.copy(nuevo)\n",
    "    return v"
   ]
  },
  {
   "cell_type": "markdown",
   "id": "parental-edward",
   "metadata": {},
   "source": [
    "## Búsqueda Aleatoria Localizada"
   ]
  },
  {
   "cell_type": "code",
   "execution_count": 50,
   "id": "introductory-angel",
   "metadata": {},
   "outputs": [],
   "source": [
    "def BusquedaAleatoriaLocalizada(K=100,dim=2,des=1.5):\n",
    "    # Crear vector inicial de forma aleatoria\n",
    "    v = np.array(dim)\n",
    "    for _ in range(dim):\n",
    "        v[_] = random()\n",
    "    # Repetir K veces\n",
    "    for _ in range(K):\n",
    "        # Generar otro vector independiente aleatorio\n",
    "        dk = np.copy(v)\n",
    "        for _ in range(dim):\n",
    "            dk[_] = np.random.normal(0,des)\n",
    "        # Sumar anterior con aleatorio\n",
    "        nuevo = np.add(dk,v)\n",
    "        if f(nuevo) < f(v):\n",
    "            v = np.copy(nuevo)\n",
    "    return v"
   ]
  },
  {
   "cell_type": "markdown",
   "id": "productive-finding",
   "metadata": {},
   "source": [
    "## Búsqueda Aleatoria Localizada Mejorada"
   ]
  },
  {
   "cell_type": "code",
   "execution_count": 52,
   "id": "excited-guest",
   "metadata": {},
   "outputs": [],
   "source": [
    "def BusquedaAleatoriaLocalizadaMejorada(K=100,dim=2,des=1.5):\n",
    "    # Crear vector inicial de forma aleatoria\n",
    "    v = np.array(dim)\n",
    "    for _ in range(dim):\n",
    "        v[_] = random()\n",
    "    # Repetir K veces\n",
    "    for _ in range(K):\n",
    "        # Generar otro vector independiente aleatorio\n",
    "        dk = np.copy(v)\n",
    "        for _ in range(dim):\n",
    "            dk[_] = np.random.normal(0,des)\n",
    "        # Sumar anterior con aleatorio\n",
    "        nuevo = np.add(dk,v)\n",
    "        if f(nuevo) < f(v):\n",
    "            v = np.copy(nuevo)\n",
    "    return v"
   ]
  },
  {
   "cell_type": "markdown",
   "id": "associate-contents",
   "metadata": {},
   "source": [
    "## Búsqueda de mínimos por intervalos"
   ]
  },
  {
   "cell_type": "code",
   "execution_count": null,
   "id": "figured-complexity",
   "metadata": {},
   "outputs": [],
   "source": [
    "def BusquedaMinimosIntervalos(ep=1e-3,step=10,a0=0,k=0.9):\n",
    "    paro = False\n",
    "    b = a0 + step\n",
    "    if f(b) > f(a):\n",
    "        a, b, s = b, a, -s\n",
    "    while !paro:\n",
    "        c = b + s\n",
    "        if f(c) > f(b) and a > c:\n",
    "            a, c = c, a\n",
    "            paro = True\n",
    "    a, b, s = b, c, s*k\n",
    "    return (a,c)"
   ]
  },
  {
   "cell_type": "code",
   "execution_count": 43,
   "id": "empty-detector",
   "metadata": {},
   "outputs": [
    {
     "name": "stdout",
     "output_type": "stream",
     "text": [
      "Valores: (-2.8688876842827526, 2.697982269502137) Funcion Objetivo: -64.14085219575914\n"
     ]
    },
    {
     "data": {
      "image/png": "[encoded data removed]",
      "text/plain": [
       "<Figure size 432x288 with 2 Axes>"
      ]
     },
     "metadata": {
      "needs_background": "light"
     },
     "output_type": "display_data"
    }
   ],
   "source": [
    "n = 100\n",
    "X = np.linspace(-4,4,n)\n",
    "Y = np.linspace(-4,4,n)\n",
    "Z = np.zeros((n,n))\n",
    "for ix,x in enumerate(X):\n",
    "    for iy,y in enumerate(Y):\n",
    "        Z[ix,iy] = funcion((x,y))\n",
    "        \n",
    "plt.contourf(X,Y,Z,10)\n",
    "plt.colorbar()\n",
    "\n",
    "des = 1.5\n",
    "\n",
    "for i in range(K):\n",
    "    dk = (np.random.normal(0,des),np.random.normal(0,des))\n",
    "    nuevo = (dk[0]+x0[0], dk[1]+x0[1])\n",
    "    if(nuevo[0] > 4 and nuevo[0] < -4): continue\n",
    "    if(nuevo[1] > 4 and nuevo[1] < -4): continue\n",
    "\n",
    "    if(funcion(nuevo) < funcion(x0) ): \n",
    "        x0 = nuevo\n",
    "        plt.plot(x0[0],x0[1],'bo',color='pink')\n",
    "    else:\n",
    "        plt.plot(x0[0],x0[1],'bo',color='orange')\n",
    "    \n",
    "print(f\"Valores: {x0} Funcion Objetivo: {funcion(x0)}\")\n",
    "\n",
    "\n",
    "plt.plot(x0[0],x0[1],'o',color='r')\n",
    "plt.show()"
   ]
  }
 ],
 "metadata": {
  "kernelspec": {
   "display_name": "Python 3",
   "language": "python",
   "name": "python3"
  },
  "language_info": {
   "codemirror_mode": {
    "name": "ipython",
    "version": 3
   },
   "file_extension": ".py",
   "mimetype": "text/x-python",
   "name": "python",
   "nbconvert_exporter": "python",
   "pygments_lexer": "ipython3",
   "version": "3.9.2"
  }
 },
 "nbformat": 4,
 "nbformat_minor": 5
}
